{
 "cells": [
  {
   "cell_type": "code",
   "execution_count": 5,
   "metadata": {},
   "outputs": [
    {
     "name": "stdout",
     "output_type": "stream",
     "text": [
      "Enter length of sides with space : 4 5 6\n",
      "Area of the triangle is :  9.921567416492215\n"
     ]
    }
   ],
   "source": [
    "# Write a Python Program(with class concepts) to find the area of the triangle\n",
    "\n",
    "class length:\n",
    "    def __init__(self, side1, side2, side3):\n",
    "        self.side1, self.side2, self.side3 = [\n",
    "            float(side) for side in input(\n",
    "                \"Enter length of sides with space : \").split()]\n",
    "\n",
    "\n",
    "class triangle(length):\n",
    "    def __init__(self, side1, side2, side3):\n",
    "        length.__init__(self, side1, side2, side3)\n",
    "\n",
    "    def area(self):\n",
    "        s = (self.side1+ self.side2+self.side3)/2\n",
    "        return ((s * (s-self.side1) * (s-self.side2) * (s-self.side3)))**0.5\n",
    "\n",
    "mytriangle = triangle(0,0,0)\n",
    "print(\"Area of the triangle is : \",mytriangle.area())"
   ]
  },
  {
   "cell_type": "code",
   "execution_count": 6,
   "metadata": {},
   "outputs": [
    {
     "data": {
      "text/plain": [
       "['khushal', 'goyal', 'noob', 'sure']"
      ]
     },
     "execution_count": 6,
     "metadata": {},
     "output_type": "execute_result"
    }
   ],
   "source": [
    "# Write a function filter_long_words() that takes a list of words \n",
    "# and an integer n and returns the list of words that are longer than n.\n",
    "\n",
    "def filter_long_words(lst, n):\n",
    "    return list(filter(lambda ele: len(ele) > n, lst))\n",
    "\n",
    "\n",
    "test = [\"khushal\", \"goyal\", \"is\", \"a\", \"noob\", \"for\", \"sure\"]\n",
    "filter_long_words(test, 3)\n",
    "    "
   ]
  },
  {
   "cell_type": "code",
   "execution_count": 8,
   "metadata": {},
   "outputs": [
    {
     "name": "stdout",
     "output_type": "stream",
     "text": [
      "Input : Please enter Words : gfhdt,jhgd,gshjkiy\n",
      "Output: Length of Words are : [5, 4, 7]\n"
     ]
    }
   ],
   "source": [
    "# Write a Python program using function concept that maps list of words into a list of integers representing the lengths of the corresponding words .\n",
    "\n",
    "def map_Words_to_Length(List):\n",
    "    ''' This function Map's the words with their corresponding length'''\n",
    "    return list(map(len, List))\n",
    "\n",
    "word_List=list(input(\"Input : Please enter Words : \").split(\",\"))\n",
    "#List Comprehension has been done to remove white trailing white spaces\n",
    "List=[x.strip() for x in word_List]\n",
    "#function Execution\n",
    "Words_lengths=map_Words_to_Length(List)\n",
    "\n",
    "print(\"Output: Length of Words are :\",Words_lengths )"
   ]
  },
  {
   "cell_type": "code",
   "execution_count": 9,
   "metadata": {},
   "outputs": [
    {
     "name": "stdout",
     "output_type": "stream",
     "text": [
      "Enter a character :f\n",
      "Is f a vowel?:  False\n"
     ]
    }
   ],
   "source": [
    "# Write a Python function which takes a character (i.e. a string of length 1) and returns True if it is a vowel, False otherwise.\n",
    "\n",
    "def if_vowel(char):\n",
    "    vowel = [\"a\", \"e\", \"i\", \"o\", \"u\"]\n",
    "    if len(char) > 1:\n",
    "        print(\"Please enter only one character\")\n",
    "    elif char in vowel:\n",
    "        return True\n",
    "    else:\n",
    "        return False\n",
    "\n",
    "\n",
    "char = input(\"Enter a character :\")\n",
    "new_char = char.lower()\n",
    "print(\"Is {} a vowel?: \".format(char),if_vowel(new_char))"
   ]
  },
  {
   "cell_type": "code",
   "execution_count": null,
   "metadata": {},
   "outputs": [],
   "source": []
  }
 ],
 "metadata": {
  "kernelspec": {
   "display_name": "Python 3",
   "language": "python",
   "name": "python3"
  },
  "language_info": {
   "codemirror_mode": {
    "name": "ipython",
    "version": 3
   },
   "file_extension": ".py",
   "mimetype": "text/x-python",
   "name": "python",
   "nbconvert_exporter": "python",
   "pygments_lexer": "ipython3",
   "version": "3.7.6"
  }
 },
 "nbformat": 4,
 "nbformat_minor": 4
}
