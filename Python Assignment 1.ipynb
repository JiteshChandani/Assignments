{
 "cells": [
  {
   "cell_type": "code",
   "execution_count": 8,
   "metadata": {},
   "outputs": [
    {
     "name": "stdout",
     "output_type": "stream",
     "text": [
      "2002,2009,2016,2023,2037,2044,2051,2058,2072,2079,2086,2093,2107,2114,2121,2128,2142,2149,2156,2163,2177,2184,2191,2198,2212,2219,2226,2233,2247,2254,2261,2268,2282,2289,2296,2303,2317,2324,2331,2338,2352,2359,2366,2373,2387,2394,2401,2408,2422,2429,2436,2443,2457,2464,2471,2478,2492,2499,2506,2513,2527,2534,2541,2548,2562,2569,2576,2583,2597,2604,2611,2618,2632,2639,2646,2653,2667,2674,2681,2688,2702,2709,2716,2723,2737,2744,2751,2758,2772,2779,2786,2793,2807,2814,2821,2828,2842,2849,2856,2863,2877,2884,2891,2898,2912,2919,2926,2933,2947,2954,2961,2968,2982,2989,2996,3003,3017,3024,3031,3038,3052,3059,3066,3073,3087,3094,3101,3108,3122,3129,3136,3143,3157,3164,3171,3178,3192,3199\n"
     ]
    }
   ],
   "source": [
    "# Write a program which will find all such numbers which are divisible by 7 but are not a multiple of 5, between 2000 and 3200 (both included). \n",
    "# The numbers obtained should be printed in a comma-separated sequence on a single line.\n",
    "x = []\n",
    "for i in range(2000,3201):\n",
    "    if i%7 == 0 and i%5 != 0:\n",
    "        x.append(str(i))\n",
    "print(','.join(x))\n",
    "      "
   ]
  },
  {
   "cell_type": "code",
   "execution_count": 15,
   "metadata": {},
   "outputs": [
    {
     "name": "stdout",
     "output_type": "stream",
     "text": [
      "Enter your First NameJitesh\n",
      "Enter your Last NameKhubchandani\n",
      "User Full Name : Jitesh Khubchandani\n",
      "User Name in reverse order is : inadnahcbuhK hsetiJ\n"
     ]
    }
   ],
   "source": [
    "# Write a Python program to accept the user's first and last name and then getting them \n",
    "# printed in the the reverse order with a space between first name and last name.\n",
    "\n",
    "F_Name = input('Enter your First Name')\n",
    "L_Name = input('Enter your Last Name')\n",
    "\n",
    "Full_name=F_Name+' '+L_Name\n",
    "\n",
    "print(\"User Full Name :\",Full_name)\n",
    "print(\"User Name in reverse order is :\",Full_name[::-1])"
   ]
  },
  {
   "cell_type": "code",
   "execution_count": 14,
   "metadata": {},
   "outputs": [
    {
     "name": "stdout",
     "output_type": "stream",
     "text": [
      "Output:\n",
      "Diameter of sphere is: 12 cm\n",
      "The Volume of sphere is :904.7786842338603 cc\n"
     ]
    }
   ],
   "source": [
    "# Write a Python program to find the volume of a sphere with diameter 12 cm\n",
    "# Formula: V=4/3 * π * r 3\n",
    "import math\n",
    "diameter_of_sphere=12\n",
    "\n",
    "\n",
    "volume_of_sphere=(4/3)*(math.pi)*(diameter_of_sphere/2)**3\n",
    "print(\"Output:\")\n",
    "print(\"Diameter of sphere is:\",diameter_of_sphere,\"cm\")\n",
    "print(\"The Volume of sphere is :\"+str(volume_of_sphere)+\" cc\")\n"
   ]
  },
  {
   "cell_type": "code",
   "execution_count": null,
   "metadata": {},
   "outputs": [],
   "source": []
  }
 ],
 "metadata": {
  "kernelspec": {
   "display_name": "Python 3",
   "language": "python",
   "name": "python3"
  },
  "language_info": {
   "codemirror_mode": {
    "name": "ipython",
    "version": 3
   },
   "file_extension": ".py",
   "mimetype": "text/x-python",
   "name": "python",
   "nbconvert_exporter": "python",
   "pygments_lexer": "ipython3",
   "version": "3.7.6"
  }
 },
 "nbformat": 4,
 "nbformat_minor": 4
}
